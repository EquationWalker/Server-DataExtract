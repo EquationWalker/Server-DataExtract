{
 "cells": [
  {
   "cell_type": "code",
   "execution_count": null,
   "metadata": {},
   "outputs": [],
   "source": [
    "# https://view.inews.qq.com/g2/getOnsInfo?name=disease_h5\n",
    "import json\n",
    "import requests\n",
    "import pandas as pd\n",
    "\n",
    "def getJson(url:str):\n",
    "    html_name = requests.get(url)\n",
    "    data_json=json.loads(html_name.text)\n",
    "    return data_json\n",
    "def saveToJson(data, name):\n",
    "    str_jsons = json.dumps(data)\n",
    "    with open(name, 'w') as f:\n",
    "        f.write(str_jsons)"
   ]
  },
  {
   "cell_type": "markdown",
   "metadata": {},
   "source": [
    "## 半年数据"
   ]
  },
  {
   "cell_type": "code",
   "execution_count": null,
   "metadata": {},
   "outputs": [],
   "source": [
    "url = 'https://api.inews.qq.com/newsqa/v1/query/inner/publish/modules/list?modules=chinaDayListNew,chinaDayAddListNew&limit=182'\n",
    "data_json=getJson(url)\n",
    "data = data_json['data']['chinaDayAddListNew']"
   ]
  },
  {
   "cell_type": "markdown",
   "metadata": {},
   "source": [
    "## 疫苗接种"
   ]
  },
  {
   "cell_type": "code",
   "execution_count": null,
   "metadata": {},
   "outputs": [],
   "source": [
    "url = 'https://api.inews.qq.com/newsqa/v1/automation/modules/list?modules=VaccineTrendData'\n",
    "\n",
    "data_json = getJson(url)\n",
    "\n",
    "data = data_json['data']['VaccineTrendData']['perHundredTrend']\n",
    "data"
   ]
  },
  {
   "cell_type": "markdown",
   "metadata": {},
   "source": [
    "## 省份确诊增加"
   ]
  },
  {
   "cell_type": "code",
   "execution_count": null,
   "metadata": {},
   "outputs": [],
   "source": [
    "url = 'https://api.inews.qq.com/newsqa/v1/query/inner/publish/modules/list?modules=nowConfirmStatis,provinceCompare'\n",
    "data_json = getJson(url)\n",
    "data = data_json['data']['provinceCompare']\n",
    "data = sorted(data.items(), key=lambda d:d[1]['confirmAdd'], reverse=True)"
   ]
  },
  {
   "cell_type": "code",
   "execution_count": null,
   "metadata": {},
   "outputs": [],
   "source": [
    "saveToJson(data, 'centerRight2.json')"
   ]
  },
  {
   "cell_type": "markdown",
   "metadata": {},
   "source": [
    "## 中国总数居==数据"
   ]
  },
  {
   "cell_type": "code",
   "execution_count": null,
   "metadata": {},
   "outputs": [],
   "source": [
    "url = 'https://api.inews.qq.com/newsqa/v1/query/inner/publish/modules/list?modules=localCityNCOVDataList,diseaseh5Shelf'\n",
    "data_json = getJson(url)['data']\n",
    "saveToJson(data_json['diseaseh5Shelf']['chinaTotal'], 'chinaTotal.json')"
   ]
  },
  {
   "cell_type": "markdown",
   "metadata": {},
   "source": [
    "## 山东数据"
   ]
  },
  {
   "cell_type": "code",
   "execution_count": null,
   "metadata": {},
   "outputs": [],
   "source": [
    "for item in data_json['diseaseh5Shelf']['areaTree'][0]['children']:\n",
    "    if item['name'] == '山东':\n",
    "        sd_data = item['children']\n",
    "        break \n",
    "saveToJson(sd_data, 'sd.json')"
   ]
  },
  {
   "cell_type": "markdown",
   "metadata": {},
   "source": [
    "## Top10"
   ]
  },
  {
   "cell_type": "code",
   "execution_count": 11,
   "metadata": {},
   "outputs": [],
   "source": [
    "data = data_json['localCityNCOVDataList']\n",
    "data = sorted(data, key=lambda d:d['highRiskAreaNum'], reverse=True)\n",
    "saveToJson(data, 'highRiskTop.json')"
   ]
  },
  {
   "cell_type": "markdown",
   "metadata": {},
   "source": [
    "## 疫苗数据"
   ]
  },
  {
   "cell_type": "code",
   "execution_count": 17,
   "metadata": {},
   "outputs": [],
   "source": [
    "url = 'https://api.inews.qq.com/newsqa/v1/automation/modules/list?modules=VaccineTrendData'\n",
    "data_json = getJson(url)['data']['VaccineTrendData']['perHundredTrend']['中国']\n",
    "saveToJson(data_json, 'vaccineTrendData.json')"
   ]
  }
 ],
 "metadata": {
  "kernelspec": {
   "display_name": "Python 3.8.11 ('base')",
   "language": "python",
   "name": "python3"
  },
  "language_info": {
   "codemirror_mode": {
    "name": "ipython",
    "version": 3
   },
   "file_extension": ".py",
   "mimetype": "text/x-python",
   "name": "python",
   "nbconvert_exporter": "python",
   "pygments_lexer": "ipython3",
   "version": "3.8.11"
  },
  "vscode": {
   "interpreter": {
    "hash": "e42634819b8c191a5d07eaf23810ff32516dd8d3875f28ec3e488928fbd3c187"
   }
  }
 },
 "nbformat": 4,
 "nbformat_minor": 2
}
